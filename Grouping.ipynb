{
  "nbformat": 4,
  "nbformat_minor": 0,
  "metadata": {
    "colab": {
      "name": "Grouping.ipynb",
      "provenance": [],
      "collapsed_sections": [],
      "authorship_tag": "ABX9TyM5lTkNZ1T3E38PcjWl509T",
      "include_colab_link": true
    },
    "kernelspec": {
      "name": "python3",
      "display_name": "Python 3"
    }
  },
  "cells": [
    {
      "cell_type": "markdown",
      "metadata": {
        "id": "view-in-github",
        "colab_type": "text"
      },
      "source": [
        "<a href=\"https://colab.research.google.com/github/KaushikSelvaDhanush/GameTheory-Project_allocation/blob/dev/Grouping.ipynb\" target=\"_parent\"><img src=\"https://colab.research.google.com/assets/colab-badge.svg\" alt=\"Open In Colab\"/></a>"
      ]
    },
    {
      "cell_type": "markdown",
      "metadata": {
        "id": "4uac3URTI6nb",
        "colab_type": "text"
      },
      "source": [
        "This Grouping tries to form groups of 4"
      ]
    },
    {
      "cell_type": "code",
      "metadata": {
        "id": "TkkOEEaxI4p6",
        "colab_type": "code",
        "colab": {
          "base_uri": "https://localhost:8080/",
          "height": 52
        },
        "outputId": "3c6fed31-ef1f-4315-9af1-a7b963dd6aee"
      },
      "source": [
        "\n",
        "n = int(input(\"Enter Number of students: \") )\n",
        "Qu=n/4\n",
        "Remain=n%4\n",
        "if Remain==1:\n",
        "  print(int(Qu-1),\" teams will have 4 members and 1 team will have 5 members\")\n",
        "elif Remain==2:\n",
        "  print(int(Qu-1),\" teams will have 4 members and 2 teams will have 3 members\")\n",
        "elif Remain ==3:\n",
        "  print(int(Qu),\" teams will have 4 members and 1 team will have 3 members\")\n",
        "else:\n",
        "  print(int(Qu),\" teams will have 4 members\")"
      ],
      "execution_count": null,
      "outputs": [
        {
          "output_type": "stream",
          "text": [
            "Enter Number of students: 10\n",
            "1  teams will have 4 members and 2 teams will have 3 members\n"
          ],
          "name": "stdout"
        }
      ]
    }
  ]
}