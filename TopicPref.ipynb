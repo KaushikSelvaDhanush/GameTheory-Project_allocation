{
  "nbformat": 4,
  "nbformat_minor": 0,
  "metadata": {
    "colab": {
      "name": "TopicPref.ipynb",
      "provenance": [],
      "collapsed_sections": [],
      "include_colab_link": true
    },
    "kernelspec": {
      "name": "python3",
      "display_name": "Python 3"
    }
  },
  "cells": [
    {
      "cell_type": "markdown",
      "metadata": {
        "id": "view-in-github",
        "colab_type": "text"
      },
      "source": [
        "<a href=\"https://colab.research.google.com/github/KaushikSelvaDhanush/GameTheory-Project_allocation/blob/dev/TopicPref.ipynb\" target=\"_parent\"><img src=\"https://colab.research.google.com/assets/colab-badge.svg\" alt=\"Open In Colab\"/></a>"
      ]
    },
    {
      "cell_type": "code",
      "metadata": {
        "id": "6B1y5Lu9CVuU",
        "colab_type": "code",
        "colab": {
          "base_uri": "https://localhost:8080/",
          "height": 34
        },
        "outputId": "2c421a71-9940-4374-9de9-034298202760"
      },
      "source": [
        "import pandas as pd\n",
        "import os\n",
        "from google.colab import drive\n",
        "drive.mount('/content/gdrive')"
      ],
      "execution_count": null,
      "outputs": [
        {
          "output_type": "stream",
          "text": [
            "Drive already mounted at /content/gdrive; to attempt to forcibly remount, call drive.mount(\"/content/gdrive\", force_remount=True).\n"
          ],
          "name": "stdout"
        }
      ]
    },
    {
      "cell_type": "code",
      "metadata": {
        "id": "k7x6V3PLCcrD",
        "colab_type": "code",
        "colab": {}
      },
      "source": [
        "os.chdir(\"/content/gdrive/My Drive/Game Theory\")\n",
        "\n",
        "Data = pd.read_csv(\"SampleData.csv\", index_col = \"Legi\")\n",
        "\n",
        "a = Data.groupby('P1').count()\n",
        "\n",
        "\n",
        "SmallGroup= []\n",
        "TeamTopic= []\n",
        "for i, row in a.iterrows():\n",
        "  if row['P2']<3:\n",
        "    SmallGroup.append(row.name)\n",
        "  else:\n",
        "    TeamTopic.append(row.name)\n",
        "\n",
        "#SmallGroup\n",
        "\n",
        "CheckP2 = []\n",
        "for i, row in Data.iterrows():\n",
        "  #print(row['P1'])\n",
        "  if row['P1'] in SmallGroup:\n",
        "    CheckP2.append(row.name)\n",
        "\n",
        "#CheckP2\n",
        "\n",
        "\n",
        "data2 = Data\n",
        "for i, row in Data.iterrows():\n",
        "  if row.name in CheckP2:\n",
        "    pref2 = row['P2']\n",
        "    if pref2 in SmallGroup:\n",
        "      row['P1']=pref2               #Replacing P1 with P2\n",
        "\n",
        "b=data2.groupby('P1').count()\n",
        "SmallGroup= []\n",
        "TeamTopic= []\n",
        "for i, row in b.iterrows():\n",
        "  if row['P2']<3:\n",
        "    SmallGroup.append(row.name)\n",
        "  else:\n",
        "    TeamTopic.append(row.name)\n",
        "\n",
        "#SmallGroup\n",
        "\n",
        "\n",
        "CheckP2 = []\n",
        "for i, row in data2.iterrows():\n",
        "  #print(row['P1'])\n",
        "  if row['P1'] in SmallGroup:\n",
        "    CheckP2.append(row.name)\n",
        "\n",
        "#Need to check is new is greater than 3, I checked it manually\n",
        "\n",
        "for i, row in data2.iterrows():\n",
        "  if row.name in CheckP2:\n",
        "    pref2 = row['P2']\n",
        "    if pref2 in SmallGroup:\n",
        "      print(row.name, pref2)          #Manual check\n",
        "    if pref2 in TeamTopic:\n",
        "      row['P1'] = pref2               # joining with stable team\n",
        "\n",
        "Final = data2\n",
        "Final = Final.drop(\"P2\",axis=1)\n",
        "Final = Final.drop(\"P3\",axis=1)\n",
        "Final = Final.rename(columns={\"P1\":\"Topic\"})\n",
        "Final = Final.drop(CheckP2,axis=0)\n",
        "\n",
        "Final.to_csv(\"output_filename2.csv\", index=False, encoding='utf8')\n"
      ],
      "execution_count": null,
      "outputs": []
    },
    {
      "cell_type": "code",
      "metadata": {
        "id": "VdT6hYW3EnN0",
        "colab_type": "code",
        "colab": {}
      },
      "source": [
        ""
      ],
      "execution_count": null,
      "outputs": []
    }
  ]
}